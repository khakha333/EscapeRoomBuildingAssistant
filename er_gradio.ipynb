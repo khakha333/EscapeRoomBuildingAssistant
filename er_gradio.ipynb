{
  "cells": [
    {
      "cell_type": "code",
      "execution_count": null,
      "metadata": {
        "id": "HBCYAadeG4-H"
      },
      "outputs": [],
      "source": [
        "# use your own token\n",
        "FRIENDLI_TOKEN = \"\""
      ]
    },
    {
      "cell_type": "markdown",
      "metadata": {
        "id": "kBKbLNkCGvq8"
      },
      "source": [
        "!pip install -U gradio"
      ]
    },
    {
      "cell_type": "code",
      "execution_count": null,
      "metadata": {
        "colab": {
          "base_uri": "https://localhost:8080/"
        },
        "id": "H24t4mYwHF4i",
        "outputId": "990b52a7-a1ab-4f37-a814-d495823a6690"
      },
      "outputs": [
        {
          "name": "stdout",
          "output_type": "stream",
          "text": [
            "Requirement already satisfied: friendli-client in /usr/local/lib/python3.10/dist-packages (1.3.4)\n",
            "Requirement already satisfied: PyYaml<7.0.0,>=6.0.1 in /usr/local/lib/python3.10/dist-packages (from friendli-client) (6.0.1)\n",
            "Requirement already satisfied: fastapi<0.105.0,>=0.104.0 in /usr/local/lib/python3.10/dist-packages (from friendli-client) (0.104.1)\n",
            "Requirement already satisfied: gql<4.0.0,>=3.4.1 in /usr/local/lib/python3.10/dist-packages (from friendli-client) (3.5.0)\n",
            "Requirement already satisfied: httpx<0.25.0,>=0.24.1 in /usr/local/lib/python3.10/dist-packages (from friendli-client) (0.24.1)\n",
            "Requirement already satisfied: injector<0.22.0,>=0.21.0 in /usr/local/lib/python3.10/dist-packages (from friendli-client) (0.21.0)\n",
            "Requirement already satisfied: jsonschema<5.0.0,>=4.17.3 in /usr/local/lib/python3.10/dist-packages (from friendli-client) (4.19.2)\n",
            "Requirement already satisfied: protobuf<5.0.0,>=4.24.2 in /usr/local/lib/python3.10/dist-packages (from friendli-client) (4.25.3)\n",
            "Requirement already satisfied: pydantic[email]<3,>=1.9.0 in /usr/local/lib/python3.10/dist-packages (from friendli-client) (2.7.1)\n",
            "Requirement already satisfied: requests<3,>=2 in /usr/local/lib/python3.10/dist-packages (from friendli-client) (2.31.0)\n",
            "Requirement already satisfied: rich<13.0.0,>=12.2.0 in /usr/local/lib/python3.10/dist-packages (from friendli-client) (12.6.0)\n",
            "Requirement already satisfied: tqdm<5.0.0,>=4.48.0 in /usr/local/lib/python3.10/dist-packages (from friendli-client) (4.66.4)\n",
            "Collecting typer<0.10.0,>=0.9.0 (from friendli-client)\n",
            "  Using cached typer-0.9.4-py3-none-any.whl (45 kB)\n",
            "Requirement already satisfied: types-protobuf<5.0.0.0,>=4.24.0.1 in /usr/local/lib/python3.10/dist-packages (from friendli-client) (4.25.0.20240417)\n",
            "Requirement already satisfied: uvicorn<0.24.0,>=0.23.2 in /usr/local/lib/python3.10/dist-packages (from friendli-client) (0.23.2)\n",
            "Requirement already satisfied: anyio<4.0.0,>=3.7.1 in /usr/local/lib/python3.10/dist-packages (from fastapi<0.105.0,>=0.104.0->friendli-client) (3.7.1)\n",
            "Requirement already satisfied: starlette<0.28.0,>=0.27.0 in /usr/local/lib/python3.10/dist-packages (from fastapi<0.105.0,>=0.104.0->friendli-client) (0.27.0)\n",
            "Requirement already satisfied: typing-extensions>=4.8.0 in /usr/local/lib/python3.10/dist-packages (from fastapi<0.105.0,>=0.104.0->friendli-client) (4.11.0)\n",
            "Requirement already satisfied: graphql-core<3.3,>=3.2 in /usr/local/lib/python3.10/dist-packages (from gql<4.0.0,>=3.4.1->friendli-client) (3.2.3)\n",
            "Requirement already satisfied: yarl<2.0,>=1.6 in /usr/local/lib/python3.10/dist-packages (from gql<4.0.0,>=3.4.1->friendli-client) (1.9.4)\n",
            "Requirement already satisfied: backoff<3.0,>=1.11.1 in /usr/local/lib/python3.10/dist-packages (from gql<4.0.0,>=3.4.1->friendli-client) (2.2.1)\n",
            "Requirement already satisfied: certifi in /usr/local/lib/python3.10/dist-packages (from httpx<0.25.0,>=0.24.1->friendli-client) (2024.2.2)\n",
            "Requirement already satisfied: httpcore<0.18.0,>=0.15.0 in /usr/local/lib/python3.10/dist-packages (from httpx<0.25.0,>=0.24.1->friendli-client) (0.17.3)\n",
            "Requirement already satisfied: idna in /usr/local/lib/python3.10/dist-packages (from httpx<0.25.0,>=0.24.1->friendli-client) (3.7)\n",
            "Requirement already satisfied: sniffio in /usr/local/lib/python3.10/dist-packages (from httpx<0.25.0,>=0.24.1->friendli-client) (1.3.1)\n",
            "Requirement already satisfied: attrs>=22.2.0 in /usr/local/lib/python3.10/dist-packages (from jsonschema<5.0.0,>=4.17.3->friendli-client) (23.2.0)\n",
            "Requirement already satisfied: jsonschema-specifications>=2023.03.6 in /usr/local/lib/python3.10/dist-packages (from jsonschema<5.0.0,>=4.17.3->friendli-client) (2023.12.1)\n",
            "Requirement already satisfied: referencing>=0.28.4 in /usr/local/lib/python3.10/dist-packages (from jsonschema<5.0.0,>=4.17.3->friendli-client) (0.35.1)\n",
            "Requirement already satisfied: rpds-py>=0.7.1 in /usr/local/lib/python3.10/dist-packages (from jsonschema<5.0.0,>=4.17.3->friendli-client) (0.18.1)\n",
            "Requirement already satisfied: annotated-types>=0.4.0 in /usr/local/lib/python3.10/dist-packages (from pydantic[email]<3,>=1.9.0->friendli-client) (0.7.0)\n",
            "Requirement already satisfied: pydantic-core==2.18.2 in /usr/local/lib/python3.10/dist-packages (from pydantic[email]<3,>=1.9.0->friendli-client) (2.18.2)\n",
            "Requirement already satisfied: email-validator>=2.0.0 in /usr/local/lib/python3.10/dist-packages (from pydantic[email]<3,>=1.9.0->friendli-client) (2.1.1)\n",
            "Requirement already satisfied: charset-normalizer<4,>=2 in /usr/local/lib/python3.10/dist-packages (from requests<3,>=2->friendli-client) (3.3.2)\n",
            "Requirement already satisfied: urllib3<3,>=1.21.1 in /usr/local/lib/python3.10/dist-packages (from requests<3,>=2->friendli-client) (2.0.7)\n",
            "Requirement already satisfied: commonmark<0.10.0,>=0.9.0 in /usr/local/lib/python3.10/dist-packages (from rich<13.0.0,>=12.2.0->friendli-client) (0.9.1)\n",
            "Requirement already satisfied: pygments<3.0.0,>=2.6.0 in /usr/local/lib/python3.10/dist-packages (from rich<13.0.0,>=12.2.0->friendli-client) (2.16.1)\n",
            "Requirement already satisfied: click<9.0.0,>=7.1.1 in /usr/local/lib/python3.10/dist-packages (from typer<0.10.0,>=0.9.0->friendli-client) (8.1.7)\n",
            "Requirement already satisfied: h11>=0.8 in /usr/local/lib/python3.10/dist-packages (from uvicorn<0.24.0,>=0.23.2->friendli-client) (0.14.0)\n",
            "Requirement already satisfied: exceptiongroup in /usr/local/lib/python3.10/dist-packages (from anyio<4.0.0,>=3.7.1->fastapi<0.105.0,>=0.104.0->friendli-client) (1.2.1)\n",
            "Requirement already satisfied: dnspython>=2.0.0 in /usr/local/lib/python3.10/dist-packages (from email-validator>=2.0.0->pydantic[email]<3,>=1.9.0->friendli-client) (2.6.1)\n",
            "Requirement already satisfied: multidict>=4.0 in /usr/local/lib/python3.10/dist-packages (from yarl<2.0,>=1.6->gql<4.0.0,>=3.4.1->friendli-client) (6.0.5)\n",
            "Installing collected packages: typer\n",
            "  Attempting uninstall: typer\n",
            "    Found existing installation: typer 0.12.3\n",
            "    Uninstalling typer-0.12.3:\n",
            "      Successfully uninstalled typer-0.12.3\n",
            "\u001b[31mERROR: pip's dependency resolver does not currently take into account all the packages that are installed. This behaviour is the source of the following dependency conflicts.\n",
            "fastapi-cli 0.0.4 requires typer>=0.12.3, but you have typer 0.9.4 which is incompatible.\n",
            "gradio 4.31.5 requires typer<1.0,>=0.12; sys_platform != \"emscripten\", but you have typer 0.9.4 which is incompatible.\u001b[0m\u001b[31m\n",
            "\u001b[0mSuccessfully installed typer-0.9.4\n"
          ]
        }
      ],
      "source": [
        "!pip install friendli-client"
      ]
    },
    {
      "cell_type": "code",
      "execution_count": null,
      "metadata": {
        "id": "TSydlEZxHYwD"
      },
      "outputs": [],
      "source": [
        "import gradio as gr\n",
        "\n",
        "def echo(message, history):\n",
        "    return \"You typed: \" + message"
      ]
    },
    {
      "cell_type": "code",
      "execution_count": null,
      "metadata": {
        "colab": {
          "base_uri": "https://localhost:8080/",
          "height": 649
        },
        "id": "LfpEj4iJHWUr",
        "outputId": "1d35b03f-65c0-4e2f-d459-ab82e487065f"
      },
      "outputs": [
        {
          "name": "stdout",
          "output_type": "stream",
          "text": [
            "Setting queue=True in a Colab notebook requires sharing enabled. Setting `share=True` (you can turn this off by setting `share=False` in `launch()` explicitly).\n",
            "\n",
            "Colab notebook detected. To show errors in colab notebook, set debug=True in launch()\n",
            "Running on public URL: https://da108812d546777603.gradio.live\n",
            "\n",
            "This share link expires in 72 hours. For free permanent hosting and GPU upgrades, run `gradio deploy` from Terminal to deploy to Spaces (https://huggingface.co/spaces)\n"
          ]
        },
        {
          "data": {
            "text/html": [
              "<div><iframe src=\"https://da108812d546777603.gradio.live\" width=\"100%\" height=\"500\" allow=\"autoplay; camera; microphone; clipboard-read; clipboard-write;\" frameborder=\"0\" allowfullscreen></iframe></div>"
            ],
            "text/plain": [
              "<IPython.core.display.HTML object>"
            ]
          },
          "metadata": {},
          "output_type": "display_data"
        },
        {
          "data": {
            "text/plain": []
          },
          "execution_count": 111,
          "metadata": {},
          "output_type": "execute_result"
        }
      ],
      "source": [
        "import time\n",
        "\n",
        "def stream_echo(message, history):\n",
        "    for i in range(len(message)):\n",
        "      time.sleep(0.01)\n",
        "      yield \"You typed: \" + message[:i+1]\n",
        "\n",
        "gr.ChatInterface(stream_echo).launch()"
      ]
    },
    {
      "cell_type": "code",
      "execution_count": null,
      "metadata": {
        "colab": {
          "base_uri": "https://localhost:8080/",
          "height": 631
        },
        "id": "lVFGzAP1ofCo",
        "outputId": "265d6b2f-8de4-4b95-cbb9-4f649bb2a771"
      },
      "outputs": [
        {
          "name": "stdout",
          "output_type": "stream",
          "text": [
            "Colab notebook detected. To show errors in colab notebook, set debug=True in launch()\n",
            "Running on public URL: https://10fdf2bf4847dff241.gradio.live\n",
            "\n",
            "This share link expires in 72 hours. For free permanent hosting and GPU upgrades, run `gradio deploy` from Terminal to deploy to Spaces (https://huggingface.co/spaces)\n"
          ]
        },
        {
          "data": {
            "text/html": [
              "<div><iframe src=\"https://10fdf2bf4847dff241.gradio.live\" width=\"100%\" height=\"500\" allow=\"autoplay; camera; microphone; clipboard-read; clipboard-write;\" frameborder=\"0\" allowfullscreen></iframe></div>"
            ],
            "text/plain": [
              "<IPython.core.display.HTML object>"
            ]
          },
          "metadata": {},
          "output_type": "display_data"
        },
        {
          "name": "stdout",
          "output_type": "stream",
          "text": [
            "\n"
          ]
        }
      ],
      "source": [
        "import os\n",
        "import gradio as gr\n",
        "from friendli import Friendli\n",
        "\n",
        "FRIENDLI_TOKEN = os.getenv(\"FRIENDLI_TOKEN\")\n",
        "client = Friendli(token=FRIENDLI_TOKEN)\n",
        "\n",
        "log = \"\"\n",
        "\n",
        "def chat_function(message, history):\n",
        "  # 시스템 메시지 추가\n",
        "  instructions = '''\n",
        "  I want you to act as an offline room-escape-game building assistant.\n",
        "  You are helpful to builder of game, not for the gamer.\n",
        "  You will come up with creative stories and problems that are imaginative and captivation for the gamer.\n",
        "  your Stories can be fairy tales, educational stories or any other type of stories which has the potential to capture gamer's attention and imagination.\n",
        "  Depending on the messages of user, you may choose specific themes or topic for your offline escape-room-game story.\n",
        "  You make proper problems that match with stories.\n",
        "  User's first request is any keywords or sentences for escape-room-game building.\n",
        "\n",
        "  Let's do step by step.\n",
        "  At the end of each step ask user feedback and if anything needs to be improved before moving on to the next section. Before proceeding to the next step, ensure the first one is fully completed. Please don't mention any STEP ; just act on it.\n",
        "\n",
        "  ### Step1 ###\n",
        "    Develop a story about the game.\n",
        "    Choose a theme for the escape room. Provide a brief description of the theme.\n",
        "    Develop a storyline for the escape room. Describe the backstory, the main objective for the participants, and any important characters or elements that will be part of the story.\n",
        "    Finally, Ask user if they like it. If they say Yes, then go to Step2. If not, regenerate Step1 again with user's new taste.\n",
        "    This is the output format. every titles should be boldic.\n",
        "    {\n",
        "      Theme:\n",
        "      Storyline:\n",
        "\n",
        "      Do you like this story? If yes, I'll proceed to the next step. If not, please provide more details or keywords to inspire a new theme and storyline.\n",
        "    }\n",
        "\n",
        "  ### Step2 ###\n",
        "    Write the whole story. Break Down the Story into Detailed Sections.\n",
        "    1.Prologue\n",
        "    2.Main Story\n",
        "    3.Epilogue\n",
        "    Assign specific roles to character.\n",
        "    Finally, Ask user if they like it. If they say Yes, then go to Step3. If not, regenerate Step2 again with user's new taste..\n",
        "    You should contain exact ending in Eplilogue.\n",
        "    This is the output format. every titles should be boldic.\n",
        "    {\n",
        "      Prologue:\n",
        "      Main Story:\n",
        "      Epilogue:\n",
        "\n",
        "      Player's Roles:\n",
        "\n",
        "      Do you like this story? If yes, I'll proceed to the next step. If not, please provide more details or keywords to change the story.\n",
        "    }\n",
        "\n",
        "  ### Step3 ###\n",
        "    Provide Detailed Outcome with Specific Details\n",
        "    1.Recommended Number of Participants: Indicate the ideal number of participants for the story (e.g. 3-4).\n",
        "    2.Duration: Provide an estimated duration to complete the story (e.g. 60 mins)(It should be exact duration).\n",
        "    3.Difficulty Level: Indicate the difficulty level of the story (scale of 0 to 5).\n",
        "    4.Fear Factor: Rate the level of fear or horror in the story (sclae of 0 to 5).\n",
        "    5.Space Design (Number of Rooms): Describe the space design, including the exact number of rooms involved (e.g. 4 rooms).\n",
        "    Finally, Ask user if they like it. If they say Yes, then go to Step4. If not, regenerate Step3 again with user's new taste..\n",
        "    This is the output format. every titles should be boldic.\n",
        "    {\n",
        "      (Recommended) Number of Participants:\n",
        "      (Recommended) Duration:\n",
        "      (Recommended) Difficulty Level:\n",
        "      (Recommended) Fear Factor:\n",
        "      (Recommended) Space Design: # rooms, including, size,\n",
        "                    Some possible design elements to consider\n",
        "\n",
        "      Do you like the details? If yes, let's move to the final step. If not, please provide anything you'd like to change or add.\n",
        "    }\n",
        "\n",
        "  ### Step4 ###\n",
        "    Design the key puzzles or challenges for the escape room.\n",
        "    Referring to Step3 above.\n",
        "    Describe at least three puzzles or challenges for each room , including how they fit into the storyline and what participants need to do to solve them.\n",
        "    Please write it in detail.\n",
        "    This is the output format. every titles should be boldic.\n",
        "    {\n",
        "      Room #1:\n",
        "      Room #2:\n",
        "      ...\n",
        "      Room #N:\n",
        "\n",
        "      Do you like these puzzles? If yes, I will show you final version of the game and change mem_state to True. If not, please provide anything you'd like to change or add.\n",
        "    }\n",
        "  ### Step5 ###\n",
        "    Provide the final result.\n",
        "    Do not summarize and write the whole result that you made above.\n",
        "    This is the output format. every titles should be boldic.\n",
        "    {\n",
        "      Theme:\n",
        "      Story\n",
        "      Prologue:\n",
        "      Main Story:\n",
        "      Epilogue:\n",
        "\n",
        "      Player's Roles:\n",
        "\n",
        "      Number of Participants:\n",
        "      Duration:\n",
        "      Difficulty Level:\n",
        "      Fear Factor:\n",
        "      Space Design: # rooms, including, size,\n",
        "                    Some possible design elements to consider\n",
        "\n",
        "      Puzzles\n",
        "      Room #1:\n",
        "      Room #2:\n",
        "      ...\n",
        "      Room #N:\n",
        "\n",
        "      This is final version!!! Check your game. Do you like it?\n",
        "    }\n",
        "    ### Ending ###\n",
        "    This is the output format.\n",
        "    {\n",
        "      Now, press the button below!\n",
        "    }\n",
        "  '''\n",
        "  new_messages = [{\"role\": \"system\", \"content\": instructions}]\n",
        "\n",
        "  for user, chatbot in history:\n",
        "    new_messages.append({\"role\" : \"user\", \"content\": user})\n",
        "    new_messages.append({\"role\" : \"assistant\", \"content\": chatbot})\n",
        "    log = chatbot\n",
        "    print(log)\n",
        "  new_messages.append({\"role\": \"user\", \"content\": message})\n",
        "\n",
        "  stream = client.chat.completions.create(\n",
        "    model=\"meta-llama-3-70b-instruct\",\n",
        "    messages=new_messages,\n",
        "    stream=True\n",
        "  )\n",
        "  res = \"\"\n",
        "  for chunk in stream:\n",
        "    res += chunk.choices[0].delta.content or \"\"\n",
        "    yield res\n",
        "\n",
        "from cachetools import LRUCache\n",
        "cache = LRUCache(maxsize=3)\n",
        "cache['key'] =log\n",
        "\n",
        "gr.ChatInterface(chat_function).launch(share=True)\n",
        "print(cache['key'])"
      ]
    },
    {
      "cell_type": "markdown",
      "metadata": {},
      "source": [
        "한국어 제목과 시놉시스 생성\n",
        "한국어 특화 모델 finetuning 후 사용\n",
        "\n",
        "Korean Title and Synopsis Generation\n",
        "After fine-tuning a model specialized for the Korean language, it is used to automatically generate titles and synopses."
      ]
    },
    {
      "cell_type": "code",
      "execution_count": null,
      "metadata": {
        "colab": {
          "base_uri": "https://localhost:8080/"
        },
        "id": "e20IsCsC-edu",
        "outputId": "da366ccc-bebb-4e18-fd73-0f70d0526e68"
      },
      "outputs": [
        {
          "name": "stdout",
          "output_type": "stream",
          "text": [
            "시놉시스: 이 마법 같은 정원에서 숨겨진 비밀을 찾아보세요! 꿈의 비밀 정원에 오신 것을 환영합니다. 여기서 플레이어들은 신비한 꽃의 신비한 비밀을 풀고, 그 마법이 영원히 행복하게 살 수 있도록 해야 합니다. 세대에 걸쳐 전해져 내려오는 아름다운 비밀 정원은... Elysium's Bloom이라는 이름의 특별한 꽃을 숨기고 있었습니다. 하지만 이 꽃은 고귀한 것처럼 보이지만, 실은 치명적인 저주를 가지고 있습니다. 교수님이 실종되었으니, 플레이어들이 저주를 깨고 정원에 다시 평화를 가져다 주어야 합니다. 당신의 조상의 지식과 능력을 총동원하여, 당신의 모든 꿈이 현실이 될 수 있도록 비밀 정원을 풀 수 있을까요? 이 마법같은 여정을 시작하세요!\n"
          ]
        }
      ],
      "source": [
        "import requests\n",
        "import json\n",
        "\n",
        "url = \"https://inference.friendli.ai/dedicated/v1/chat/completions\"\n",
        "\n",
        "res = \"\"\n",
        "\n",
        "payload = json.dumps({\n",
        "  \"model\": \"by3hne1uj92k\",\n",
        "  \"messages\": [\n",
        "    {\n",
        "      \"role\": \"system\",\n",
        "      \"content\": '''\n",
        "      You are a helpful assistant who provide awesome synopsis and title of escape-room-game.\n",
        "      In the case of escape-room-game, synopsis gives small imformation about prologue.\n",
        "      You have to always answer in Korean language.\n",
        "      이제 2가지 예시를 줄게. 내용에 맞는 제목을 정하고, 예시의 어투만 참고해서 간단한 시놉시스를 작성하면 돼. 하지만 예시의 내용은 참고하지 말아줘.\n",
        "      아래는 출력 형식이야. 이 형식대로 출력해줘. 오직 시놉시스만 5 문장 이하로 출력해줘.\n",
        "      {\n",
        "        제목:\n",
        "        시놉시스:\n",
        "      }\n",
        "      '''\n",
        "    },\n",
        "    {\n",
        "      \"role\": \"user\",\n",
        "      \"content\": \"가문 대대로 아틀란티스에 관한 고고학 연구를 지속하고 있는 가문의 고고학자인 당신은 어느 날 발신인을 알 수 없는 편지를 받게 된다. 편지에는 놀랍게도 아틀란티스의 위치를 알리는 실마리가 적혀 있었고, 실마리를 따라 도착한 곳은 버뮤다 해협에 잇는 한 무인도의 좁은 동굴이었다. 그곳에 도착한 당신은 동굴 안을 살펴본다. 동굴 안에는 아틀란티스를 연구하던 연구기지가 있었고 편지는 연구기지의 연구원으로부터 받은 것이었다. 결국 당신은 아틀란티스의 비밀을 풀게 된다.\"\n",
        "    },\n",
        "    {\n",
        "      \"role\": \"chatbot\",\n",
        "      \"content\": '''\n",
        "      제목: 잃어버린 사원\n",
        "      시놉시스: 누가 이런 편지를 보낸 거지? 아틀란티스는 여기에 묻혀있다... 아틀란티스는 없어. 몇 년간 연구했지만 실마리도 못 찾았는데.. 그래, 마지막으로 한 번만 더 믿어보자.\n",
        "      '''\n",
        "    },\n",
        "    {\n",
        "      \"role\": \"user\",\n",
        "      \"content\": \"응급환자가 급하게 병원으로 들어왔어. 알고보니 그 환자는 사람이 아니라 컴퓨터 였어. gamer는 컴퓨터를 고치는 백신인 백선생님이고, 컴퓨터 백신을 통해 환자를 치료하고자 해.\"\n",
        "    },\n",
        "    {\n",
        "      \"role\": \"chatbot\",\n",
        "      \"content\": '''\n",
        "      제목: Back to the Scene+\n",
        "      시놉시스: 선생님, 응급 환자 입니다! 서둘러 주세요!\n",
        "      '''\n",
        "    },\n",
        "    {\n",
        "      \"role\": \"user\",\n",
        "      \"content\": res\n",
        "    },\n",
        "  ],\n",
        "  \"max_tokens\": 200\n",
        "})\n",
        "headers = {\n",
        "  'Content-Type': 'application/json',\n",
        "  'Accept': 'application/json',\n",
        "  'Authorization': 'Bearer' + FRIENDLI_TOKEN\n",
        "}\n",
        "\n",
        "response = requests.request(\"POST\", url, headers=headers, data=payload)\n",
        "\n",
        "response_json = response.json()\n",
        "\n",
        "text_value = response_json[\"choices\"][0][\"message\"][\"content\"]\n",
        "print(text_value)\n"
      ]
    }
  ],
  "metadata": {
    "colab": {
      "provenance": []
    },
    "kernelspec": {
      "display_name": "Python 3",
      "name": "python3"
    },
    "language_info": {
      "name": "python"
    }
  },
  "nbformat": 4,
  "nbformat_minor": 0
}
